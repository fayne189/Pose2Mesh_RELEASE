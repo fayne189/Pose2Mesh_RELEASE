{
  "nbformat": 4,
  "nbformat_minor": 0,
  "metadata": {
    "accelerator": "GPU",
    "colab": {
      "name": "Pose2Mesh_colab_demo.ipynb",
      "provenance": [],
      "collapsed_sections": [],
      "toc_visible": true,
      "include_colab_link": true
    },
    "kernelspec": {
      "display_name": "Python 3",
      "name": "python3"
    }
  },
  "cells": [
    {
      "cell_type": "markdown",
      "metadata": {
        "id": "view-in-github",
        "colab_type": "text"
      },
      "source": [
        "<a href=\"https://colab.research.google.com/github/neng5201314/Pose2Mesh_RELEASE/blob/master/Pose2Mesh_colab_demo.ipynb\" target=\"_parent\"><img src=\"https://colab.research.google.com/assets/colab-badge.svg\" alt=\"Open In Colab\"/></a>"
      ]
    },
    {
      "cell_type": "markdown",
      "metadata": {
        "id": "PczaxZ8BDCdv"
      },
      "source": [
        "## Setting Up Pose2Mesh\n",
        "  \n",
        "  a. Follow the instruction on [README.md](https://github.com/hongsukchoi/Pose2Mesh_RELEASE#pytorch-smpl-and-mano-layer)\n",
        "  \n",
        "  b. Upload the project to your google dirve\n",
        "  \n",
        "  c. mount your google dirve on colab\n",
        "\n",
        "Tips: \n",
        "1. Prepare pretrained model weights from [here](https://drive.google.com/drive/folders/1HayITLQYf6d43ksShRYF3CU6KDKd84Kn) to a corresponding directory, (Trick: make shortcuts to the corresponding directory, Don't have to download all pre-trained models weights)\n",
        "  * Go the shared folder, which contains files you want to make a shortcut to your drive\n",
        "  * Select all the files you want to make a shortcut\n",
        "  * In the upper right corner click on three vertical dots and select “make a shortcut”\n",
        "  * Then, select the corresponding directory position and put shortcuts there.\n",
        "\n",
        "2. Same way to make shortcut of [demo_input_img](https://drive.google.com/drive/folders/1Vk-R_9MdoRflclfN2iQVWjxlFAHHe4bG)\n",
        "\n",
        "3. Caution: Should go to ***%{ROOT}/smplpytorch/smplpytorch/pytorch/smpl_layer.py*** and check if version of smpl models that match you downloaded.\n",
        "\n",
        "4. ***drive/MyDrive/workspace/Pose2Mesh_RELEASE/***  is my project root directory, you should change to yours.\n"
      ]
    },
    {
      "cell_type": "code",
      "metadata": {
        "colab": {
          "base_uri": "https://localhost:8080/"
        },
        "id": "UMWuDT6-9bVs",
        "outputId": "476f02dd-2bcb-4240-e30d-58e65988415f"
      },
      "source": [
        "from google.colab import drive\n",
        "drive.mount('/content/drive')"
      ],
      "execution_count": null,
      "outputs": [
        {
          "output_type": "stream",
          "text": [
            "Mounted at /content/drive\n"
          ],
          "name": "stdout"
        }
      ]
    },
    {
      "cell_type": "code",
      "metadata": {
        "colab": {
          "base_uri": "https://localhost:8080/"
        },
        "id": "oRxjxj51Bs1u",
        "outputId": "bd5b7a20-5173-4bb1-d237-747a76265ba2"
      },
      "source": [
        "!cd drive/MyDrive/workspace/Pose2Mesh_RELEASE/ && sh requirements.sh"
      ],
      "execution_count": null,
      "outputs": [
        {
          "output_type": "stream",
          "text": [
            "Requirement already satisfied: opencv-python in /usr/local/lib/python3.7/dist-packages (4.1.2.30)\n",
            "Requirement already satisfied: numpy>=1.14.5 in /usr/local/lib/python3.7/dist-packages (from opencv-python) (1.19.5)\n",
            "Collecting transforms3d\n",
            "\u001b[?25l  Downloading https://files.pythonhosted.org/packages/b5/f7/e85809168a548a854d7c1331560c27b4f5381698d29c12e57759192b2bc1/transforms3d-0.3.1.tar.gz (62kB)\n",
            "\u001b[K     |████████████████████████████████| 71kB 8.9MB/s \n",
            "\u001b[?25hBuilding wheels for collected packages: transforms3d\n",
            "  Building wheel for transforms3d (setup.py) ... \u001b[?25l\u001b[?25hdone\n",
            "  Created wheel for transforms3d: filename=transforms3d-0.3.1-cp37-none-any.whl size=59374 sha256=644912b97d9247da930a4642da574a88994889a97f3997dde7505bbaf8614b2d\n",
            "  Stored in directory: /root/.cache/pip/wheels/3d/3c/84/28d36677f3c760c048bd02b5a547ea0c4027770cc9cdb9af1e\n",
            "Successfully built transforms3d\n",
            "Installing collected packages: transforms3d\n",
            "Successfully installed transforms3d-0.3.1\n",
            "Requirement already satisfied: pycocotools in /usr/local/lib/python3.7/dist-packages (2.0.2)\n",
            "Requirement already satisfied: matplotlib>=2.1.0 in /usr/local/lib/python3.7/dist-packages (from pycocotools) (3.2.2)\n",
            "Requirement already satisfied: setuptools>=18.0 in /usr/local/lib/python3.7/dist-packages (from pycocotools) (54.2.0)\n",
            "Requirement already satisfied: cython>=0.27.3 in /usr/local/lib/python3.7/dist-packages (from pycocotools) (0.29.22)\n",
            "Requirement already satisfied: pyparsing!=2.0.4,!=2.1.2,!=2.1.6,>=2.0.1 in /usr/local/lib/python3.7/dist-packages (from matplotlib>=2.1.0->pycocotools) (2.4.7)\n",
            "Requirement already satisfied: numpy>=1.11 in /usr/local/lib/python3.7/dist-packages (from matplotlib>=2.1.0->pycocotools) (1.19.5)\n",
            "Requirement already satisfied: python-dateutil>=2.1 in /usr/local/lib/python3.7/dist-packages (from matplotlib>=2.1.0->pycocotools) (2.8.1)\n",
            "Requirement already satisfied: kiwisolver>=1.0.1 in /usr/local/lib/python3.7/dist-packages (from matplotlib>=2.1.0->pycocotools) (1.3.1)\n",
            "Requirement already satisfied: cycler>=0.10 in /usr/local/lib/python3.7/dist-packages (from matplotlib>=2.1.0->pycocotools) (0.10.0)\n",
            "Requirement already satisfied: six>=1.5 in /usr/local/lib/python3.7/dist-packages (from python-dateutil>=2.1->matplotlib>=2.1.0->pycocotools) (1.15.0)\n",
            "Collecting git+https://github.com/scottandrews/chumpy.git@fe51783e0364bf1e9b705541e7d77f894dd2b1ac\n",
            "  Cloning https://github.com/scottandrews/chumpy.git (to revision fe51783e0364bf1e9b705541e7d77f894dd2b1ac) to /tmp/pip-req-build-7cvxc6wk\n",
            "  Running command git clone -q https://github.com/scottandrews/chumpy.git /tmp/pip-req-build-7cvxc6wk\n",
            "Requirement already satisfied: numpy>=1.8.1 in /usr/local/lib/python3.7/dist-packages (from chumpy==0.69) (1.19.5)\n",
            "Requirement already satisfied: scipy>=0.13.0 in /usr/local/lib/python3.7/dist-packages (from chumpy==0.69) (1.4.1)\n",
            "Requirement already satisfied: six>=1.11.0 in /usr/local/lib/python3.7/dist-packages (from chumpy==0.69) (1.15.0)\n",
            "Building wheels for collected packages: chumpy\n",
            "  Building wheel for chumpy (setup.py) ... \u001b[?25l\u001b[?25hdone\n",
            "  Created wheel for chumpy: filename=chumpy-0.69-cp37-none-any.whl size=60906 sha256=f07210a298313c1cb90722853e8019a75278a0dbd1561a703e7375926d54b27d\n",
            "  Stored in directory: /tmp/pip-ephem-wheel-cache-ky62zqbq/wheels/1d/69/92/0ef35762d94eb141f38f1e3a86e711acb5edc2924acc625bc0\n",
            "Successfully built chumpy\n",
            "Installing collected packages: chumpy\n",
            "Successfully installed chumpy-0.69\n",
            "Collecting pyrender\n",
            "\u001b[?25l  Downloading https://files.pythonhosted.org/packages/28/88/174c28b9d3d03cf6d8edb6f637458f30f1cf1a2bd7a617cbd9dadb1740f6/pyrender-0.1.45-py3-none-any.whl (1.2MB)\n",
            "\u001b[K     |████████████████████████████████| 1.2MB 18.7MB/s \n",
            "\u001b[?25hRequirement already satisfied: networkx in /usr/local/lib/python3.7/dist-packages (from pyrender) (2.5.1)\n",
            "Collecting freetype-py\n",
            "\u001b[?25l  Downloading https://files.pythonhosted.org/packages/40/b5/56751e13f8b4a42f52c1b85ecce1446f83245190d820b42748eb8574ae43/freetype_py-2.2.0-py3-none-manylinux1_x86_64.whl (890kB)\n",
            "\u001b[K     |████████████████████████████████| 890kB 48.1MB/s \n",
            "\u001b[?25hRequirement already satisfied: imageio in /usr/local/lib/python3.7/dist-packages (from pyrender) (2.4.1)\n",
            "Requirement already satisfied: pyglet>=1.4.10 in /usr/local/lib/python3.7/dist-packages (from pyrender) (1.5.0)\n",
            "Requirement already satisfied: Pillow in /usr/local/lib/python3.7/dist-packages (from pyrender) (7.1.2)\n",
            "Collecting PyOpenGL==3.1.0\n",
            "\u001b[?25l  Downloading https://files.pythonhosted.org/packages/9c/1d/4544708aaa89f26c97cc09450bb333a23724a320923e74d73e028b3560f9/PyOpenGL-3.1.0.tar.gz (1.2MB)\n",
            "\u001b[K     |████████████████████████████████| 1.2MB 55.1MB/s \n",
            "\u001b[?25hRequirement already satisfied: numpy in /usr/local/lib/python3.7/dist-packages (from pyrender) (1.19.5)\n",
            "Requirement already satisfied: scipy in /usr/local/lib/python3.7/dist-packages (from pyrender) (1.4.1)\n",
            "Requirement already satisfied: six in /usr/local/lib/python3.7/dist-packages (from pyrender) (1.15.0)\n",
            "Collecting trimesh\n",
            "\u001b[?25l  Downloading https://files.pythonhosted.org/packages/03/ef/5b72643813a762da795346e905a67b40dfa5b853fd490f13dfbbfd684f69/trimesh-3.9.14-py3-none-any.whl (631kB)\n",
            "\u001b[K     |████████████████████████████████| 634kB 53.6MB/s \n",
            "\u001b[?25hRequirement already satisfied: decorator<5,>=4.3 in /usr/local/lib/python3.7/dist-packages (from networkx->pyrender) (4.4.2)\n",
            "Requirement already satisfied: future in /usr/local/lib/python3.7/dist-packages (from pyglet>=1.4.10->pyrender) (0.16.0)\n",
            "Requirement already satisfied: setuptools in /usr/local/lib/python3.7/dist-packages (from trimesh->pyrender) (54.2.0)\n",
            "Building wheels for collected packages: PyOpenGL\n",
            "  Building wheel for PyOpenGL (setup.py) ... \u001b[?25l\u001b[?25hdone\n",
            "  Created wheel for PyOpenGL: filename=PyOpenGL-3.1.0-cp37-none-any.whl size=1745211 sha256=c75d360cb04ab0108aafcd7252c2debcd4d02f1201356f9ce0cf2ebca21ab8e6\n",
            "  Stored in directory: /root/.cache/pip/wheels/6c/00/7f/1dd736f380848720ad79a1a1de5272e0d3f79c15a42968fb58\n",
            "Successfully built PyOpenGL\n",
            "Installing collected packages: freetype-py, PyOpenGL, trimesh, pyrender\n",
            "  Found existing installation: PyOpenGL 3.1.5\n",
            "    Uninstalling PyOpenGL-3.1.5:\n",
            "      Successfully uninstalled PyOpenGL-3.1.5\n",
            "Successfully installed PyOpenGL-3.1.0 freetype-py-2.2.0 pyrender-0.1.45 trimesh-3.9.14\n",
            "Requirement already satisfied: trimesh in /usr/local/lib/python3.7/dist-packages (3.9.14)\n",
            "Requirement already satisfied: setuptools in /usr/local/lib/python3.7/dist-packages (from trimesh) (54.2.0)\n",
            "Requirement already satisfied: numpy in /usr/local/lib/python3.7/dist-packages (from trimesh) (1.19.5)\n",
            "Requirement already satisfied: pyyaml in /usr/local/lib/python3.7/dist-packages (3.13)\n",
            "Requirement already satisfied: easydict in /usr/local/lib/python3.7/dist-packages (1.9)\n",
            "Requirement already satisfied: tqdm in /usr/local/lib/python3.7/dist-packages (4.41.1)\n"
          ],
          "name": "stdout"
        }
      ]
    },
    {
      "cell_type": "markdown",
      "metadata": {
        "id": "VcPE_CMAaD9h"
      },
      "source": [
        "*drive/MyDrive/workspace/Pose2Mesh_RELEASE/* is my project root directory, you should chage to yours."
      ]
    },
    {
      "cell_type": "markdown",
      "metadata": {
        "id": "tS6aYwr9eJcE"
      },
      "source": [
        "## Demo on a single people\n",
        "\n",
        "* Run python demo/run.py --gpu 0 --input_pose demo/h36m_joint_input.npy --joint_set human36.\n",
        "* You can replace demo/h36m_joint_input.npy and human36 with your input numpy file and one of {human36,coco,smpl,mano}.\n",
        "* Add --input_img {img_path} on the command if you want to a rendered mesh overlayed on an input image.\n",
        "* The outputs demo_pose2d.png, demo_mesh.png, and demo_mesh_.obj will be saved in ${ROOT}/demo/result/."
      ]
    },
    {
      "cell_type": "code",
      "metadata": {
        "colab": {
          "base_uri": "https://localhost:8080/"
        },
        "id": "5Ak3A0WpeHz7",
        "outputId": "045382b7-a50d-4a97-ed93-de194ae0a772"
      },
      "source": [
        "!cd drive/MyDrive/workspace/Pose2Mesh_RELEASE/ && python demo/run.py --gpu 0 --input_pose demo/h36m_joint_input.npy --joint_set human36"
      ],
      "execution_count": null,
      "outputs": [
        {
          "output_type": "stream",
          "text": [
            "Experiment Data on /content/drive/MyDrive/workspace/Pose2Mesh_RELEASE/lib/core/../../experiment/exp_04-20_17:56\n",
            "/content/drive/MyDrive/workspace/Pose2Mesh_RELEASE/demo/../smplpytorch/smplpytorch/pytorch/smpl_layer.py:41: UserWarning: The given NumPy array is not writeable, and PyTorch does not support non-writeable tensors. This means you can write to the underlying (supposedly non-writeable) NumPy array using the tensor. You may want to copy the array to protect its data or make it writeable before converting it to a tensor. This type of warning will be suppressed for the rest of this program. (Triggered internally at  /pytorch/torch/csrc/utils/tensor_numpy.cpp:143.)\n",
            "  torch.Tensor(smpl_data['betas'].r).unsqueeze(0))\n",
            "Heavy Edge Matching coarsening with Xavier version\n",
            "Fetch model weight from ./experiment/pose2mesh_human36J_train_human36/final.pth.tar\n",
            "joint input [[415 415]\n",
            " [382 415]\n",
            " [288 497]\n",
            " [277 660]\n",
            " [450 415]\n",
            " [434 484]\n",
            " [466 666]\n",
            " [420 323]\n",
            " [431 232]\n",
            " [442 175]\n",
            " [427 144]\n",
            " [471 243]\n",
            " [487 343]\n",
            " [452 394]\n",
            " [378 250]\n",
            " [359 343]\n",
            " [319 359]]\n",
            "image shape (999, 730, 3) 730 999\n",
            "/usr/local/lib/python3.7/dist-packages/torch/nn/functional.py:3458: UserWarning: Default upsampling behavior when mode=linear is changed to align_corners=False since 0.4.0. Please specify align_corners=True if the old behavior is desired. See the documentation of nn.Upsample for details.\n",
            "  \"See the documentation of nn.Upsample for details.\".format(mode)\n",
            "(999, 730, 4) (999, 730, 1) (999, 730, 3)\n"
          ],
          "name": "stdout"
        }
      ]
    },
    {
      "cell_type": "markdown",
      "metadata": {
        "id": "CgsuFcXQeRxr"
      },
      "source": [
        "## Demo on mutiple people\n",
        "\n",
        "*   Download demo input from here and place them under ${ROOT}/demo/  (or make shortcut on your google dirve.)\n",
        "\n",
        "* Run python demo/run.py --gpu 0.\n",
        "\n",
        "*   Outputs on a sampled image from CrowdPose datasest will be saved in ${ROOT}/demo/result/.\n",
        "\n",
        "* You can change an input image and some details in lines 264~278 of ${ROOT}/demo/run.py."
      ]
    },
    {
      "cell_type": "code",
      "metadata": {
        "colab": {
          "base_uri": "https://localhost:8080/"
        },
        "id": "nLKAmkyR-QQP",
        "outputId": "2d9df112-5363-417d-e74b-3944fd8694c2"
      },
      "source": [
        "!cd drive/MyDrive/workspace/Pose2Mesh_RELEASE/ && python demo/run.py --gpu 0 "
      ],
      "execution_count": null,
      "outputs": [
        {
          "output_type": "stream",
          "text": [
            "Experiment Data on /content/drive/MyDrive/workspace/Pose2Mesh_RELEASE/lib/core/../../experiment/exp_04-20_19:21\n",
            "/content/drive/MyDrive/workspace/Pose2Mesh_RELEASE/demo/../smplpytorch/smplpytorch/pytorch/smpl_layer.py:41: UserWarning: The given NumPy array is not writeable, and PyTorch does not support non-writeable tensors. This means you can write to the underlying (supposedly non-writeable) NumPy array using the tensor. You may want to copy the array to protect its data or make it writeable before converting it to a tensor. This type of warning will be suppressed for the rest of this program. (Triggered internally at  /pytorch/torch/csrc/utils/tensor_numpy.cpp:143.)\n",
            "  torch.Tensor(smpl_data['betas'].r).unsqueeze(0))\n",
            "Heavy Edge Matching coarsening with Xavier version\n",
            "Fetch model weight from ./experiment/pose2mesh_cocoJ_train_human36_coco_muco/final.pth.tar\n",
            "[[[143.046875, 280.546875, 0.7913159132003784, -2.533449649810791, 3.227381467819214], [158.984375, 262.734375, 0.8415248394012451, -2.5655949115753174, 3.2125282287597656], [126.640625, 263.671875, 0.8310572504997253, -2.6429240703582764, 3.329594612121582], [181.015625, 265.546875, 0.7808129787445068, -2.5889270305633545, 3.2138118743896484], [101.796875, 265.546875, 0.7211445569992065, -2.6556687355041504, 3.2958269119262695], [193.671875, 322.734375, 0.48798951506614685, -2.591045379638672, 3.106067657470703], [85.859375, 328.828125, 0.5224202871322632, -2.6165502071380615, 3.116420269012451], [191.328125, 419.296875, 0.2536880075931549, -2.4893836975097656, 3.1853184700012207], [73.203125, 406.640625, 0.2543467879295349, -2.6548235416412354, 2.8781838417053223], [151.015625, 459.609375, 0.026791952550411224, 0.0, 0.0], [100.859375, 455.859375, 0.2275000512599945, -2.3943471908569336, 2.8397216796875], [174.453125, 468.984375, 0.1457231342792511, -2.5600523948669434, 3.1761577129364014], [106.953125, 468.984375, 0.1684814989566803, -2.3803822994232178, 3.015864849090576], [185.703125, 467.109375, 0.003391023026779294, 0.0, 0.0], [65.234375, 468.046875, 0.019504182040691376, 0.0, 0.0], [44.140625, 294.140625, 0.000510602374561131, 0.0, 0.0], [75.078125, 471.328125, 0.0008813244639895856, 0.0, 0.0]], [[505.390625, 228.515625, 0.7713829874992371, 3.1290793418884277, -2.0147602558135986], [515.703125, 215.859375, 0.7812485694885254, 3.145496129989624, -1.961280107498169], [489.453125, 210.234375, 0.7616866230964661, 3.0472536087036133, -1.9652392864227295], [523.671875, 208.828125, 0.00710376026108861, 0.0, 0.0], [437.421875, 215.390625, 0.7669107913970947, 2.954864025115967, -1.9851897954940796], [510.546875, 296.015625, 0.4129142761230469, 2.914734363555908, -2.0838747024536133], [397.578125, 286.640625, 0.30026745796203613, 2.8678247928619385, -1.9545323848724365], [480.078125, 384.140625, 0.46517908573150635, 2.945432662963867, -2.1828203201293945], [400.390625, 378.984375, 0.42715996503829956, 2.7396717071533203, -1.749714732170105], [441.171875, 466.640625, 0.24165970087051392, 2.727137565612793, -1.4592572450637817], [398.046875, 474.609375, 0.20695805549621582, 2.984182834625244, -1.4287941455841064], [493.203125, 432.890625, 0.19223853945732117, 2.764956474304199, -1.6861754655838013], [418.203125, 426.796875, 0.1324934959411621, 2.8473167419433594, -1.624326229095459], [437.421875, 479.765625, 0.004910040181130171, 0.0, 0.0], [441.640625, 479.765625, 0.0032675748225301504, 0.0, 0.0], [443.984375, 467.578125, 0.14010554552078247, 2.551293134689331, -1.7334809303283691], [399.921875, 474.609375, 0.011866191402077675, 0.0, 0.0]], [[212.890625, 161.015625, 0.7588627934455872, -0.9617772698402405, 1.4126219749450684], [233.515625, 136.171875, 0.8092085123062134, -0.9585057497024536, 1.4237871170043945], [197.890625, 143.203125, 0.812235951423645, -0.9468215107917786, 1.3947293758392334], [274.765625, 143.203125, 0.7272182106971741, -0.969397783279419, 1.422943115234375], [182.421875, 155.390625, 0.16024193167686462, -0.9897651672363281, 1.410630702972412], [322.578125, 273.046875, 0.3864675760269165, -0.9610260725021362, 1.4198392629623413], [166.484375, 251.015625, 0.21785637736320496, -0.905935525894165, 1.353241205215454], [303.359375, 420.703125, 0.4609929919242859, 0.0, 0.0], [52.109375, 394.921875, 0.14023058116436005, -1.686097502708435, 1.898322343826294], [219.453125, 457.734375, 0.48650461435317993, -0.8344941139221191, 1.5996146202087402], [44.609375, 420.234375, 0.5265393853187561, -1.4438445568084717, 1.5767993927001953], [233.515625, 467.578125, 0.04193203151226044, 0.0, 0.0], [170.234375, 458.203125, 0.061782367527484894, 0.0, 0.0], [200.234375, 468.046875, 0.005150869954377413, 0.0, 0.0], [64.296875, 448.828125, 0.003418684471398592, 0.0, 0.0], [73.203125, 456.796875, 0.0005968358018435538, 0.0, 0.0], [186.171875, 467.578125, 0.000723383272998035, 0.0, 0.0]], [[381.171875, 110.390625, 0.7254635095596313, 1.338262677192688, -0.6893017292022705], [395.703125, 83.203125, 0.8211962580680847, 1.343884825706482, -0.7026557922363281], [358.671875, 90.234375, 0.8126211166381836, 1.3132903575897217, -0.6864748597145081], [422.421875, 85.078125, 0.7354612946510315, 1.3382153511047363, -0.6943840980529785], [328.671875, 101.953125, 0.7469974756240845, 1.3284980058670044, -0.7168859243392944], [488.515625, 183.515625, 0.16974611580371857, 1.430763840675354, -0.7958121299743652], [300.546875, 208.359375, 0.3228946924209595, 1.275253415107727, -0.6469104290008545], [550.859375, 276.328125, 0.09487950801849365, 0.0, 0.0], [241.953125, 227.578125, 0.0072891972959041595, 0.0, 0.0], [431.328125, 354.609375, 0.042964279651641846, 0.0, 0.0], [317.890625, 473.671875, 0.0039041878189891577, 0.0, 0.0], [449.140625, 401.015625, 0.02711988426744938, 0.0, 0.0], [374.140625, 416.015625, 0.04197227954864502, 0.0, 0.0], [452.421875, 395.859375, 0.004378479905426502, 0.0, 0.0], [317.421875, 475.546875, 0.013297773897647858, 0.0, 0.0], [573.359375, 335.859375, 0.0012693199096247554, 0.0, 0.0], [488.046875, 359.296875, 0.0003593730216380209, 0.0, 0.0]], [[212.890625, 161.015625, 0.7588627934455872, 0.0, 0.0], [233.515625, 136.171875, 0.8092085123062134, 0.0, 0.0], [197.890625, 143.203125, 0.812235951423645, 0.0, 0.0], [274.765625, 143.203125, 0.7272182106971741, 0.0, 0.0], [182.421875, 155.390625, 0.16024193167686462, 0.0, 0.0], [322.578125, 273.046875, 0.3864675760269165, 0.0, 0.0], [166.484375, 251.015625, 0.21785637736320496, 0.0, 0.0], [303.359375, 420.703125, 0.4609929919242859, -0.8440296649932861, 1.459269404411316], [53.046875, 388.828125, 0.1357843428850174, -0.9487910866737366, 1.8885843753814697], [219.453125, 457.734375, 0.48650461435317993, 0.0, 0.0], [44.609375, 419.765625, 0.5248481631278992, 0.0, 0.0], [233.515625, 467.578125, 0.04193203151226044, 0.0, 0.0], [168.359375, 447.890625, 0.06402960419654846, 0.0, 0.0], [200.234375, 466.640625, 0.004744290839880705, 0.0, 0.0], [80.234375, 449.765625, 0.0024323761463165283, 0.0, 0.0], [73.203125, 456.796875, 0.0005968358018435538, 0.0, 0.0], [186.171875, 467.578125, 0.000723383272998035, 0.0, 0.0]], [[143.046875, 280.546875, 0.7913159132003784, 0.0, 0.0], [158.984375, 262.734375, 0.8415248394012451, 0.0, 0.0], [126.640625, 263.671875, 0.8310572504997253, 0.0, 0.0], [181.015625, 265.546875, 0.7808129787445068, 0.0, 0.0], [101.796875, 265.546875, 0.7211445569992065, 0.0, 0.0], [193.671875, 322.734375, 0.48798951506614685, 0.0, 0.0], [85.859375, 328.828125, 0.5224202871322632, 0.0, 0.0], [197.890625, 392.578125, 0.14681276679039001, -2.590118408203125, 3.2415452003479004], [73.203125, 406.640625, 0.2543467879295349, 0.0, 0.0], [151.015625, 459.609375, 0.026791952550411224, 0.0, 0.0], [100.859375, 455.859375, 0.2275000512599945, 0.0, 0.0], [174.453125, 468.984375, 0.1457231342792511, 0.0, 0.0], [106.953125, 468.984375, 0.1684814989566803, 0.0, 0.0], [184.765625, 474.140625, 0.0029266944620758295, 0.0, 0.0], [65.234375, 468.046875, 0.019504182040691376, 0.0, 0.0], [44.140625, 294.140625, 0.000510602374561131, 0.0, 0.0], [38.046875, 295.078125, 0.00046640107757411897, 0.0, 0.0]], [[143.046875, 280.546875, 0.7913159132003784, 0.0, 0.0], [158.984375, 262.734375, 0.8415248394012451, 0.0, 0.0], [126.640625, 263.671875, 0.8310572504997253, 0.0, 0.0], [181.015625, 265.546875, 0.7808129787445068, 0.0, 0.0], [101.796875, 265.546875, 0.7211445569992065, 0.0, 0.0], [193.671875, 322.734375, 0.48798951506614685, 0.0, 0.0], [85.859375, 328.828125, 0.5224202871322632, 0.0, 0.0], [200.234375, 385.078125, 0.11955711245536804, -2.62283992767334, 3.1773600578308105], [73.203125, 406.640625, 0.2543467879295349, 0.0, 0.0], [151.015625, 459.609375, 0.026791952550411224, 0.0, 0.0], [100.859375, 455.859375, 0.2275000512599945, 0.0, 0.0], [174.453125, 468.984375, 0.1457231342792511, 0.0, 0.0], [106.953125, 468.984375, 0.1684814989566803, 0.0, 0.0], [184.765625, 474.140625, 0.0029266944620758295, 0.0, 0.0], [65.234375, 468.046875, 0.019504182040691376, 0.0, 0.0], [44.140625, 294.140625, 0.000510602374561131, 0.0, 0.0], [60.546875, 471.328125, 0.0007916854810900986, 0.0, 0.0]]]\n",
            "/usr/local/lib/python3.7/dist-packages/torch/nn/functional.py:3458: UserWarning: Default upsampling behavior when mode=linear is changed to align_corners=False since 0.4.0. Please specify align_corners=True if the old behavior is desired. See the documentation of nn.Upsample for details.\n",
            "  \"See the documentation of nn.Upsample for details.\".format(mode)\n",
            "(480, 640, 4) (480, 640, 1) (480, 640, 3)\n",
            "(480, 640, 4) (480, 640, 1) (480, 640, 3)\n",
            "(480, 640, 4) (480, 640, 1) (480, 640, 3)\n",
            "(480, 640, 4) (480, 640, 1) (480, 640, 3)\n",
            "(480, 640, 4) (480, 640, 1) (480, 640, 3)\n"
          ],
          "name": "stdout"
        }
      ]
    }
  ]
}